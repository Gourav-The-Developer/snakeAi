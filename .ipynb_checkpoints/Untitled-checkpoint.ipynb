{
 "cells": [
  {
   "cell_type": "code",
   "execution_count": 1,
   "id": "9d715c26",
   "metadata": {},
   "outputs": [
    {
     "name": "stdout",
     "output_type": "stream",
     "text": [
      "Requirement already satisfied: mediapipe in c:\\users\\digital\\appdata\\local\\programs\\python\\python39\\lib\\site-packages (0.8.11)\n",
      "Requirement already satisfied: opencv-python in c:\\users\\digital\\appdata\\roaming\\python\\python39\\site-packages (4.6.0.66)\n",
      "Requirement already satisfied: numpy in c:\\users\\digital\\appdata\\roaming\\python\\python39\\site-packages (1.23.2)\n",
      "Requirement already satisfied: protobuf<4,>=3.11 in c:\\users\\digital\\appdata\\local\\programs\\python\\python39\\lib\\site-packages (from mediapipe) (3.20.3)\n",
      "Requirement already satisfied: attrs>=19.1.0 in c:\\users\\digital\\appdata\\local\\programs\\python\\python39\\lib\\site-packages (from mediapipe) (21.2.0)\n",
      "Requirement already satisfied: matplotlib in c:\\users\\digital\\appdata\\local\\programs\\python\\python39\\lib\\site-packages (from mediapipe) (3.5.3)\n",
      "Requirement already satisfied: opencv-contrib-python in c:\\users\\digital\\appdata\\local\\programs\\python\\python39\\lib\\site-packages (from mediapipe) (4.6.0.66)\n",
      "Requirement already satisfied: absl-py in c:\\users\\digital\\appdata\\local\\programs\\python\\python39\\lib\\site-packages (from mediapipe) (1.3.0)\n",
      "Requirement already satisfied: kiwisolver>=1.0.1 in c:\\users\\digital\\appdata\\local\\programs\\python\\python39\\lib\\site-packages (from matplotlib->mediapipe) (1.4.4)\n",
      "Requirement already satisfied: pyparsing>=2.2.1 in c:\\users\\digital\\appdata\\local\\programs\\python\\python39\\lib\\site-packages (from matplotlib->mediapipe) (3.0.9)\n",
      "Requirement already satisfied: cycler>=0.10 in c:\\users\\digital\\appdata\\local\\programs\\python\\python39\\lib\\site-packages (from matplotlib->mediapipe) (0.11.0)\n",
      "Requirement already satisfied: python-dateutil>=2.7 in c:\\users\\digital\\appdata\\local\\programs\\python\\python39\\lib\\site-packages (from matplotlib->mediapipe) (2.8.2)\n",
      "Requirement already satisfied: pillow>=6.2.0 in c:\\users\\digital\\appdata\\local\\programs\\python\\python39\\lib\\site-packages (from matplotlib->mediapipe) (9.2.0)\n",
      "Requirement already satisfied: fonttools>=4.22.0 in c:\\users\\digital\\appdata\\local\\programs\\python\\python39\\lib\\site-packages (from matplotlib->mediapipe) (4.37.0)\n",
      "Requirement already satisfied: packaging>=20.0 in c:\\users\\digital\\appdata\\local\\programs\\python\\python39\\lib\\site-packages (from matplotlib->mediapipe) (21.3)\n",
      "Requirement already satisfied: six>=1.5 in c:\\users\\digital\\appdata\\local\\programs\\python\\python39\\lib\\site-packages (from python-dateutil>=2.7->matplotlib->mediapipe) (1.16.0)\n"
     ]
    },
    {
     "name": "stderr",
     "output_type": "stream",
     "text": [
      "WARNING: You are using pip version 21.2.3; however, version 22.3 is available.\n",
      "You should consider upgrading via the 'C:\\Users\\digital\\AppData\\Local\\Programs\\Python\\Python39\\python.exe -m pip install --upgrade pip' command.\n"
     ]
    }
   ],
   "source": [
    "!pip install mediapipe opencv-python numpy"
   ]
  },
  {
   "cell_type": "code",
   "execution_count": 8,
   "id": "6349b5b8",
   "metadata": {},
   "outputs": [
    {
     "ename": "AttributeError",
     "evalue": "type object 'SolutionOutputs' has no attribute 'multi_hand_landmark'",
     "output_type": "error",
     "traceback": [
      "\u001b[1;31m---------------------------------------------------------------------------\u001b[0m",
      "\u001b[1;31mAttributeError\u001b[0m                            Traceback (most recent call last)",
      "Input \u001b[1;32mIn [8]\u001b[0m, in \u001b[0;36m<cell line: 7>\u001b[1;34m()\u001b[0m\n\u001b[0;32m     11\u001b[0m results \u001b[38;5;241m=\u001b[39m hands\u001b[38;5;241m.\u001b[39mprocess(image)\n\u001b[0;32m     12\u001b[0m image \u001b[38;5;241m=\u001b[39m cv2\u001b[38;5;241m.\u001b[39mcvtColor(image,cv2\u001b[38;5;241m.\u001b[39mCOLOR_RGB2BGR)\n\u001b[1;32m---> 13\u001b[0m \u001b[38;5;28;01mif\u001b[39;00m \u001b[43mresults\u001b[49m\u001b[38;5;241;43m.\u001b[39;49m\u001b[43mmulti_hand_landmark\u001b[49m:\n\u001b[0;32m     14\u001b[0m     \u001b[38;5;28;01mfor\u001b[39;00m num,hand \u001b[38;5;129;01min\u001b[39;00m \u001b[38;5;28menumerate\u001b[39m(results,multi_hand_landmarks):\n\u001b[0;32m     15\u001b[0m         drawing_utils\u001b[38;5;241m.\u001b[39mdraw_landmarks(image,hand,mp\u001b[38;5;241m.\u001b[39msolutions\u001b[38;5;241m.\u001b[39mhands\u001b[38;5;241m.\u001b[39mHAND_CONNECTIONS)\n",
      "\u001b[1;31mAttributeError\u001b[0m: type object 'SolutionOutputs' has no attribute 'multi_hand_landmark'"
     ]
    }
   ],
   "source": [
    "import cv2\n",
    "import mediapipe as mp\n",
    "import numpy as np\n",
    "cap = cv2.VideoCapture(0)\n",
    "drawing_utils = mp.solutions.drawing_utils\n",
    "hands = mp.solutions.hands\n",
    "with hands.Hands(min_detection_confidence=0.5,min_tracking_confidence=0.5) as hands:\n",
    "    while cap.isOpened():\n",
    "        ret,frame = cap.read();\n",
    "        image = cv2.cvtColor(frame,cv2.COLOR_BGR2RGB)\n",
    "        results = hands.process(image)\n",
    "        image = cv2.cvtColor(image,cv2.COLOR_RGB2BGR)\n",
    "#         if results.multi_hand_landmark:\n",
    "#             for num,hand in enumerate(results,multi_hand_landmarks):\n",
    "#                 drawing_utils.draw_landmarks(image,hand,mp.solutions.hands.HAND_CONNECTIONS)\n",
    "       \n",
    "        cv2.imshow(\"hi\",image)\n",
    "        if cv2.waitKey(10) & 0xFF == ord('q'):\n",
    "            break\n",
    "cap.release()\n",
    "cv2.destoryAllWindows()"
   ]
  },
  {
   "cell_type": "code",
   "execution_count": 12,
   "id": "26c8aa33",
   "metadata": {},
   "outputs": [],
   "source": [
    "cap.release()\n",
    "\n"
   ]
  },
  {
   "cell_type": "code",
   "execution_count": null,
   "id": "9c14eb66",
   "metadata": {},
   "outputs": [],
   "source": [
    "import cv2\n",
    "cap = cv2.VideoCapture(0)\n"
   ]
  }
 ],
 "metadata": {
  "kernelspec": {
   "display_name": "Python 3 (ipykernel)",
   "language": "python",
   "name": "python3"
  },
  "language_info": {
   "codemirror_mode": {
    "name": "ipython",
    "version": 3
   },
   "file_extension": ".py",
   "mimetype": "text/x-python",
   "name": "python",
   "nbconvert_exporter": "python",
   "pygments_lexer": "ipython3",
   "version": "3.9.7"
  }
 },
 "nbformat": 4,
 "nbformat_minor": 5
}
